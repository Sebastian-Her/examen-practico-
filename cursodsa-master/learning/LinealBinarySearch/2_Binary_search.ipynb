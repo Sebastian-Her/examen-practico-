{
 "cells": [
  {
   "cell_type": "markdown",
   "id": "f9fb390b-ddd6-411b-af65-8d3ed93b4e92",
   "metadata": {},
   "source": [
    "# 2. Búsqueda binaria\n",
    "\n",
    "Con un conjunto de datos ordenado, podemos aprovechar el orden para realizar una búsqueda que es más eficiente que ir elemento por elemento.\n",
    "\n",
    "La búsqueda binaria requiere un conjunto de datos ordenados. Luego, realizamos los siguientes pasos:\n",
    "\n",
    "- Verificamos el valor medio del conjunto de datos.\n",
    "    - Si este valor coincide con nuestro objetivo, podemos devolver el índice.\n",
    "- Si el valor medio es menor que nuestro objetivo.\n",
    "    - Comenzamos en el paso 1 usando la mitad derecha de la lista.\n",
    "- Si el valor medio es mayor que nuestro objetivo.\n",
    "    - Comenzamos en el paso 1 usando la mitad izquierda de la lista.\n",
    "\n",
    "Eventualmente nos quedamos sin valores en la lista o encontramos el valor objetivo."
   ]
  },
  {
   "cell_type": "markdown",
   "id": "40916757-45d8-4413-ac44-32fffd82ae68",
   "metadata": {},
   "source": [
    "## 2.1 Complejidad temporal de la búsqueda binaria\n",
    "\n",
    "En cada iteración, cortamos la lista a la mitad. La complejidad temporal es $\\mathcal{O}(log N)$.\n",
    "\n",
    "Una lista ordenada de 64 elementos requerirá como máximo $\\log_2(64) = 6 $ comparaciones.\n",
    "\n",
    "\n",
    "<img src=\"Binary_search.png\"  width=\"500\" >\n"
   ]
  },
  {
   "cell_type": "markdown",
   "id": "e42584c9-2f29-467a-a8a2-05f774cc9235",
   "metadata": {},
   "source": [
    "## 2.1 Binary search de forma iterativa.\n",
    "\n",
    "1. Define `binary_search()` ([Abrir binary_search_sandbox.py](binary_search.py)) con `sorted_list` y `target` como parametros.\n",
    "2. Inicializa `left_pointer` a cero y `right_pointer` igual a la longitud de `sorted_list`.\n",
    "3. Crea una funcion `while` que verifique que `left_pointer` sea menor a `right_pointer` y dentro:\n",
    "    1. Calcula el indice medio `mid_idx` de `sorted_list` y el valor medio `mid_val` de `sorted_list`.\n",
    "    2. Utiliza condicionales para verificar cualquiera de los siguientes 3 casos:\n",
    "        1. Si  `mid_val` es igual a  `target` entonces regresa `mid_idx`.\n",
    "        2. Si `target` es menor a `mid_val` entonces actualiza `right_pointer` igual a `mid_idx`.\n",
    "        3. Si `target` es mayor que `mid_val` entonces actualiza `left_pointer` igual a `mid_idx + 1`.\n",
    "4. Fuera del ciclo `while` regtresa `\"valor no en la lista\"` en caso de que `target` no este en la lista.\n",
    "\n",
    "\n",
    "Despues de completar las actividades de arriba debes verificar tu avance corriendo el test correspodiente ejecutando la siguiente linea de codigo en una celda de codigo.\n",
    "\n",
    "`!python3 -m unittest Test_2_binary_search.py`"
   ]
  },
  {
   "cell_type": "code",
   "execution_count": 1,
   "id": "fe8343b4",
   "metadata": {},
   "outputs": [
    {
     "name": "stdout",
     "output_type": "stream",
     "text": [
      "The file start_from.txt was not found.\n",
      "Running from students' code\n"
     ]
    },
    {
     "name": "stderr",
     "output_type": "stream",
     "text": [
      ".......\n",
      "----------------------------------------------------------------------\n",
      "Ran 7 tests in 0.002s\n",
      "\n",
      "OK\n"
     ]
    }
   ],
   "source": [
    "!python -m unittest Test_2_binary_search.py"
   ]
  },
  {
   "cell_type": "markdown",
   "id": "c87593c6-f7bd-4bd0-9275-2e459845c664",
   "metadata": {},
   "source": [
    "# 3. Problema de logica: balas de cañon\n",
    "\n",
    "Tienes 9 balas de cañón, y una de ellas es diferente (puede ser más pesada o más ligera que las demás). Tienes una balanza de dos platos y el objetivo es identificar cuál es la bala diferente utilizando la menor cantidad de pesadas posible.\n",
    "\n",
    "1. Codifica `find_ball()` el cual implemente el algoritmo que encuentre cual bala es la diferente he imprima el numero de \"pesadas\" que utilice.\n",
    "2. Con tus conociminetos de matematicas (😂😂) encuentra una ecuacion que prediga el numero de pesadas dado un numero de balas $N$. Escribe la eacuacion en Latex y explica tu razonamiento."
   ]
  },
  {
   "cell_type": "code",
   "execution_count": 1,
   "id": "5f8c8a30",
   "metadata": {},
   "outputs": [],
   "source": [
    "def find_ball(balls):\n",
    "    def weigh(group1, group2):\n",
    "        weight1 = sum(group1)\n",
    "        weight2 = sum(group2)\n",
    "        if weight1 < weight2:\n",
    "            return -1  # group1 es más ligero\n",
    "        elif weight1 > weight2:\n",
    "            return 1   # group1 es más pesado\n",
    "        else:\n",
    "            return 0    # igual\n",
    "\n",
    "    # Inicializa la lista de balas (9 balas, todas con peso 1, excepto una)\n",
    "    weights = [1] * 9\n",
    "    weights[0] = 2  # Supongamos que la primera bala es más pesada\n",
    "    # weights[0] = 0  # O podría ser más ligera\n",
    "\n",
    "    # Primera pesada: divide en tres grupos de 3\n",
    "    group1 = weights[0:3]\n",
    "    group2 = weights[3:6]\n",
    "    result = weigh(group1, group2)\n",
    "\n",
    "    if result == 0:\n",
    "        # La bala diferente está en el grupo 3\n",
    "        different_group = weights[6:9]\n",
    "        # Segunda pesada: comparamos dos de las balas restantes\n",
    "        result2 = weigh(different_group[0:2], different_group[0:2])\n",
    "        if result2 == 0:\n",
    "            print(\"La bala diferente es la tercera bala en el grupo 3\")\n",
    "        elif result2 == -1:\n",
    "            print(\"La bala diferente es más ligera en el grupo 3\")\n",
    "        else:\n",
    "            print(\"La bala diferente es más pesada en el grupo 3\")\n",
    "    elif result == -1:\n",
    "        # La bala diferente está en group1 o es más ligera\n",
    "        result2 = weigh(group1[0:2], group1[0:2])\n",
    "        if result2 == 0:\n",
    "            print(\"La bala diferente es la tercera bala en group1\")\n",
    "        elif result2 == -1:\n",
    "            print(\"La bala diferente es más ligera en group1\")\n",
    "        else:\n",
    "            print(\"La bala diferente es más pesada en group1\")\n",
    "    else:\n",
    "        # La bala diferente está en group2 o es más pesada\n",
    "        result2 = weigh(group2[0:2], group2[0:2])\n",
    "        if result2 == 0:\n",
    "            print(\"La bala diferente es la tercera bala en group2\")\n",
    "        elif result2 == -1:\n",
    "            print(\"La bala diferente es más ligera en group2\")\n",
    "        else:\n",
    "            print(\"La bala diferente es más pesada en group2\")"
   ]
  },
  {
   "cell_type": "code",
   "execution_count": 2,
   "id": "1f0d6c7e",
   "metadata": {},
   "outputs": [
    {
     "name": "stdout",
     "output_type": "stream",
     "text": [
      "La bala diferente es la tercera bala en group2\n"
     ]
    }
   ],
   "source": [
    "balls = [1] * 9  # 9 balas con peso normal\n",
    "find_ball(balls)"
   ]
  },
  {
   "cell_type": "markdown",
   "id": "175f48c4",
   "metadata": {},
   "source": [
    "$$\n",
    "k = \\lceil \\log_3(N) \\rceil\n",
    "$$"
   ]
  }
 ],
 "metadata": {
  "kernelspec": {
   "display_name": "Python 3",
   "language": "python",
   "name": "python3"
  },
  "language_info": {
   "codemirror_mode": {
    "name": "ipython",
    "version": 3
   },
   "file_extension": ".py",
   "mimetype": "text/x-python",
   "name": "python",
   "nbconvert_exporter": "python",
   "pygments_lexer": "ipython3",
   "version": "3.12.7"
  }
 },
 "nbformat": 4,
 "nbformat_minor": 5
}
